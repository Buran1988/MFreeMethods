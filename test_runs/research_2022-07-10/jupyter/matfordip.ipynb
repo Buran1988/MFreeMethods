{
 "cells": [
  {
   "cell_type": "code",
   "execution_count": 1,
   "id": "883156e3",
   "metadata": {},
   "outputs": [],
   "source": [
    "import pandas"
   ]
  },
  {
   "cell_type": "code",
   "execution_count": 2,
   "id": "09c87e96",
   "metadata": {},
   "outputs": [],
   "source": [
    "import plotly "
   ]
  },
  {
   "cell_type": "code",
   "execution_count": 3,
   "id": "f948bbd7",
   "metadata": {},
   "outputs": [
    {
     "ename": "ModuleNotFoundError",
     "evalue": "No module named 'a_plates'",
     "output_type": "error",
     "traceback": [
      "\u001b[1;31m---------------------------------------------------------------------------\u001b[0m",
      "\u001b[1;31mModuleNotFoundError\u001b[0m                       Traceback (most recent call last)",
      "\u001b[1;32m~\\AppData\\Local\\Temp/ipykernel_13176/2373303146.py\u001b[0m in \u001b[0;36m<module>\u001b[1;34m\u001b[0m\n\u001b[1;32m----> 1\u001b[1;33m \u001b[1;32mfrom\u001b[0m \u001b[0ma_plates\u001b[0m \u001b[1;32mimport\u001b[0m \u001b[0mlamina\u001b[0m\u001b[1;33m,\u001b[0m \u001b[0mlaminate\u001b[0m\u001b[1;33m,\u001b[0m \u001b[0mmaterial\u001b[0m\u001b[1;33m,\u001b[0m \u001b[0mproblem\u001b[0m\u001b[1;33m,\u001b[0m \u001b[0msolver\u001b[0m\u001b[1;33m\u001b[0m\u001b[1;33m\u001b[0m\u001b[0m\n\u001b[0m",
      "\u001b[1;31mModuleNotFoundError\u001b[0m: No module named 'a_plates'"
     ]
    }
   ],
   "source": [
    "from a_plates import lamina, laminate, material, problem, solver"
   ]
  },
  {
   "cell_type": "code",
   "execution_count": 4,
   "id": "01a76d15",
   "metadata": {},
   "outputs": [
    {
     "ename": "NameError",
     "evalue": "name 'material' is not defined",
     "output_type": "error",
     "traceback": [
      "\u001b[1;31m---------------------------------------------------------------------------\u001b[0m",
      "\u001b[1;31mNameError\u001b[0m                                 Traceback (most recent call last)",
      "\u001b[1;32m~\\AppData\\Local\\Temp/ipykernel_13176/1525663572.py\u001b[0m in \u001b[0;36m<module>\u001b[1;34m\u001b[0m\n\u001b[1;32m----> 1\u001b[1;33m \u001b[0mm\u001b[0m\u001b[1;33m=\u001b[0m \u001b[0mmaterial\u001b[0m\u001b[1;33m.\u001b[0m\u001b[0mROB\u001b[0m\u001b[1;33m\u001b[0m\u001b[1;33m\u001b[0m\u001b[0m\n\u001b[0m",
      "\u001b[1;31mNameError\u001b[0m: name 'material' is not defined"
     ]
    }
   ],
   "source": [
    "m= material.ROB"
   ]
  },
  {
   "cell_type": "code",
   "execution_count": 5,
   "id": "741542c2",
   "metadata": {},
   "outputs": [],
   "source": [
    "ply_0 = lamina.Lamina (m, theta=0,thickness=0.2)\n",
    "ply_45 = lamina.Lamina(m,theta=45,thickness=0.2)\n",
    "ply_90 = lamina.Lamina(m,theta=90,thickness=0.2)\n",
    "ply_135 = lamina.Lamina(m,theta=-45,thickness=0.2)"
   ]
  },
  {
   "cell_type": "code",
   "execution_count": 6,
   "id": "c5538a57",
   "metadata": {},
   "outputs": [],
   "source": [
    "my_stacking= [\n",
    "    ply_45,\n",
    "    ply_0,\n",
    "    ply_135,\n",
    "    ply_0,\n",
    "    ply_90,\n",
    "    ply_0,\n",
    "    ply_135,\n",
    "    ply_0,\n",
    "    ply_45,\n",
    "    ply_0,\n",
    "    ply_45,\n",
    "    ply_0,\n",
    "    ply_135,\n",
    "    ply_0,\n",
    "    ply_90,\n",
    "    ply_0,\n",
    "    ply_135,\n",
    "    ply_0,\n",
    "    ply_45,\n",
    "]"
   ]
  },
  {
   "cell_type": "code",
   "execution_count": 7,
   "id": "a68d6b6c",
   "metadata": {},
   "outputs": [],
   "source": [
    "my_lamnite = laminate.Laminate(my_stacking)"
   ]
  },
  {
   "cell_type": "markdown",
   "id": "62184760",
   "metadata": {},
   "source": [
    "# Matricies "
   ]
  },
  {
   "cell_type": "markdown",
   "id": "ce2b6e9f",
   "metadata": {},
   "source": [
    "## Extensional stiffness matrix"
   ]
  },
  {
   "cell_type": "code",
   "execution_count": 8,
   "id": "9e8c97db",
   "metadata": {},
   "outputs": [
    {
     "data": {
      "text/plain": [
       "array([[2.29650146e+04, 6.08142164e+03, 5.68434189e-14],\n",
       "       [6.08142164e+03, 1.64983850e+04, 5.68434189e-14],\n",
       "       [5.68434189e-14, 5.68434189e-14, 6.49028044e+03]])"
      ]
     },
     "execution_count": 8,
     "metadata": {},
     "output_type": "execute_result"
    }
   ],
   "source": [
    "my_lamnite.A"
   ]
  },
  {
   "cell_type": "markdown",
   "id": "bffc758e",
   "metadata": {},
   "source": [
    "## Coupling stifness matrix"
   ]
  },
  {
   "cell_type": "markdown",
   "id": "9ceddf40",
   "metadata": {},
   "source": [
    "### If the laminate is symmetric , the geometric midplane is also the neutral plane of the plate, and the [B] matrix will have all elemnts equal to zero."
   ]
  },
  {
   "cell_type": "code",
   "execution_count": 9,
   "id": "a0c9303f",
   "metadata": {},
   "outputs": [
    {
     "data": {
      "text/plain": [
       "array([[1.22781785e-11, 3.29691829e-12, 5.68434189e-14],\n",
       "       [3.29691829e-12, 8.64019967e-12, 5.68434189e-14],\n",
       "       [5.68434189e-14, 5.68434189e-14, 2.95585778e-12]])"
      ]
     },
     "execution_count": 9,
     "metadata": {},
     "output_type": "execute_result"
    }
   ],
   "source": [
    "my_lamnite.B"
   ]
  },
  {
   "cell_type": "markdown",
   "id": "92bb1aa5",
   "metadata": {},
   "source": [
    "## Bending stiffness matrix"
   ]
  },
  {
   "cell_type": "code",
   "execution_count": 10,
   "id": "e38478c4",
   "metadata": {},
   "outputs": [
    {
     "data": {
      "text/plain": [
       "array([[27086.45463847,  7496.56866137,   443.4260296 ],\n",
       "       [ 7496.56866137, 20043.98707113,   443.4260296 ],\n",
       "       [  443.4260296 ,   443.4260296 ,  7988.56207934]])"
      ]
     },
     "execution_count": 10,
     "metadata": {},
     "output_type": "execute_result"
    }
   ],
   "source": [
    "my_lamnite.D"
   ]
  }
 ],
 "metadata": {
  "kernelspec": {
   "display_name": "Python 3 (ipykernel)",
   "language": "python",
   "name": "python3"
  },
  "language_info": {
   "codemirror_mode": {
    "name": "ipython",
    "version": 3
   },
   "file_extension": ".py",
   "mimetype": "text/x-python",
   "name": "python",
   "nbconvert_exporter": "python",
   "pygments_lexer": "ipython3",
   "version": "3.9.7"
  }
 },
 "nbformat": 4,
 "nbformat_minor": 5
}
