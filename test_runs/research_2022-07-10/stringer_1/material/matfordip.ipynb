{
 "cells": [
  {
   "cell_type": "code",
   "execution_count": 1,
   "id": "883156e3",
   "metadata": {},
   "outputs": [],
   "source": [
    "import pandas"
   ]
  },
  {
   "cell_type": "code",
   "execution_count": 2,
   "id": "09c87e96",
   "metadata": {},
   "outputs": [],
   "source": [
    "import plotly "
   ]
  },
  {
   "cell_type": "code",
   "execution_count": 3,
   "id": "f948bbd7",
   "metadata": {},
   "outputs": [
    {
     "data": {
      "text/html": [
       "        <script type=\"text/javascript\">\n",
       "        window.PlotlyConfig = {MathJaxConfig: 'local'};\n",
       "        if (window.MathJax) {MathJax.Hub.Config({SVG: {font: \"STIX-Web\"}});}\n",
       "        if (typeof require !== 'undefined') {\n",
       "        require.undef(\"plotly\");\n",
       "        requirejs.config({\n",
       "            paths: {\n",
       "                'plotly': ['https://cdn.plot.ly/plotly-2.6.3.min']\n",
       "            }\n",
       "        });\n",
       "        require(['plotly'], function(Plotly) {\n",
       "            window._Plotly = Plotly;\n",
       "        });\n",
       "        }\n",
       "        </script>\n",
       "        "
      ]
     },
     "metadata": {},
     "output_type": "display_data"
    }
   ],
   "source": [
    "from a_plates import lamina, laminate, material, problem, solver"
   ]
  },
  {
   "cell_type": "code",
   "execution_count": 4,
   "id": "01a76d15",
   "metadata": {},
   "outputs": [],
   "source": [
    "m= material.ROB"
   ]
  },
  {
   "cell_type": "code",
   "execution_count": 5,
   "id": "741542c2",
   "metadata": {},
   "outputs": [],
   "source": [
    "ply_0 = lamina.Lamina (m, theta=0,thickness=0.2)\n",
    "ply_45 = lamina.Lamina(m,theta=45,thickness=0.2)\n",
    "ply_90 = lamina.Lamina(m,theta=90,thickness=0.2)\n",
    "ply_135 = lamina.Lamina(m,theta=-45,thickness=0.2)"
   ]
  },
  {
   "cell_type": "code",
   "execution_count": 6,
   "id": "c5538a57",
   "metadata": {},
   "outputs": [],
   "source": [
    "my_stacking= [\n",
    "    ply_45,\n",
    "    ply_0,\n",
    "    ply_135,\n",
    "    ply_0,\n",
    "    ply_90,\n",
    "    ply_0,\n",
    "    ply_135,\n",
    "    ply_0,\n",
    "    ply_45,\n",
    "    ply_0,\n",
    "    ply_45,\n",
    "    ply_0,\n",
    "    ply_135,\n",
    "    ply_0,\n",
    "    ply_90,\n",
    "    ply_0,\n",
    "    ply_135,\n",
    "    ply_0,\n",
    "    ply_45,\n",
    "]"
   ]
  },
  {
   "cell_type": "code",
   "execution_count": 7,
   "id": "a68d6b6c",
   "metadata": {},
   "outputs": [],
   "source": [
    "my_lamnite = laminate.Laminate(my_stacking)"
   ]
  },
  {
   "cell_type": "markdown",
   "id": "62184760",
   "metadata": {},
   "source": [
    "# Matricies "
   ]
  },
  {
   "cell_type": "markdown",
   "id": "ce2b6e9f",
   "metadata": {},
   "source": [
    "## Extensional stiffness matrix"
   ]
  },
  {
   "cell_type": "code",
   "execution_count": 8,
   "id": "9e8c97db",
   "metadata": {},
   "outputs": [
    {
     "data": {
      "text/plain": [
       "array([[2.29650146e+04, 6.08142164e+03, 5.68434189e-14],\n",
       "       [6.08142164e+03, 1.64983850e+04, 5.68434189e-14],\n",
       "       [5.68434189e-14, 5.68434189e-14, 6.49028044e+03]])"
      ]
     },
     "execution_count": 8,
     "metadata": {},
     "output_type": "execute_result"
    }
   ],
   "source": [
    "my_lamnite.A"
   ]
  },
  {
   "cell_type": "markdown",
   "id": "bffc758e",
   "metadata": {},
   "source": [
    "## Coupling stifness matrix"
   ]
  },
  {
   "cell_type": "markdown",
   "id": "9ceddf40",
   "metadata": {},
   "source": [
    "### If the laminate is symmetric , the geometric midplane is also the neutral plane of the plate, and the [B] matrix will have all elemnts equal to zero."
   ]
  },
  {
   "cell_type": "code",
   "execution_count": 9,
   "id": "a0c9303f",
   "metadata": {},
   "outputs": [
    {
     "data": {
      "text/plain": [
       "array([[1.22781785e-11, 3.29691829e-12, 5.68434189e-14],\n",
       "       [3.29691829e-12, 8.64019967e-12, 5.68434189e-14],\n",
       "       [5.68434189e-14, 5.68434189e-14, 2.95585778e-12]])"
      ]
     },
     "execution_count": 9,
     "metadata": {},
     "output_type": "execute_result"
    }
   ],
   "source": [
    "my_lamnite.B"
   ]
  },
  {
   "cell_type": "markdown",
   "id": "92bb1aa5",
   "metadata": {},
   "source": [
    "## Bending stiffness matrix"
   ]
  },
  {
   "cell_type": "code",
   "execution_count": 10,
   "id": "e38478c4",
   "metadata": {},
   "outputs": [
    {
     "data": {
      "text/plain": [
       "array([[27086.45463847,  7496.56866137,   443.4260296 ],\n",
       "       [ 7496.56866137, 20043.98707113,   443.4260296 ],\n",
       "       [  443.4260296 ,   443.4260296 ,  7988.56207934]])"
      ]
     },
     "execution_count": 10,
     "metadata": {},
     "output_type": "execute_result"
    }
   ],
   "source": [
    "my_lamnite.D"
   ]
  }
 ],
 "metadata": {
  "kernelspec": {
   "display_name": "Python 3",
   "language": "python",
   "name": "python3"
  },
  "language_info": {
   "codemirror_mode": {
    "name": "ipython",
    "version": 3
   },
   "file_extension": ".py",
   "mimetype": "text/x-python",
   "name": "python",
   "nbconvert_exporter": "python",
   "pygments_lexer": "ipython3",
   "version": "3.8.8"
  }
 },
 "nbformat": 4,
 "nbformat_minor": 5
}
